{
    "cells": [
        {
            "cell_type": "markdown",
            "metadata": {
                "collapsed": true
            },
            "source": "### Introduction\n\n**Business Question:**\nDoes average income in NYC neighborhoods effect the types of venues in the neighborhoods? \n\nAnswering this question will help new business owners in NYC decide what neighborhoods to put their businesses in. It will also give community planners insight into the preferences of neighborhood populations as a function of average income. "
        },
        {
            "cell_type": "markdown",
            "metadata": {},
            "source": "### Data\n**Data Sources:** \nThis report will use the FourSquare API and the NYC Open Data SODA API. FourSquare will be used to identify venue categories and plot businesses geospatially. The SODA API provides users with access to NYC economic, social, and crime data. I will be using NYC economic data provided by the NYC comptroller as well as geoJSON data from the SODA API to analyze NYC economic information geospatially. I will see if different categories of business correlate to NYC neighborhoods based on income. "
        },
        {
            "cell_type": "code",
            "execution_count": null,
            "metadata": {},
            "outputs": [],
            "source": ""
        }
    ],
    "metadata": {
        "kernelspec": {
            "display_name": "Python 3.6",
            "language": "python",
            "name": "python3"
        },
        "language_info": {
            "codemirror_mode": {
                "name": "ipython",
                "version": 3
            },
            "file_extension": ".py",
            "mimetype": "text/x-python",
            "name": "python",
            "nbconvert_exporter": "python",
            "pygments_lexer": "ipython3",
            "version": "3.6.9"
        }
    },
    "nbformat": 4,
    "nbformat_minor": 1
}